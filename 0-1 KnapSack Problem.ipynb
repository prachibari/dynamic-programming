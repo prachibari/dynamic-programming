{
 "cells": [
  {
   "cell_type": "markdown",
   "metadata": {},
   "source": [
    "## Problem\n",
    "\n",
    "You have been given a total weight say W. And you have a list of times and values. You can either pick up the either item or not pick it. You cannot pick it partially. Problem is to choose such items such that their sum of weight is less than or equal to total weight and the sum of values is maximum. You only have 1 quantity of each item."
   ]
  },
  {
   "cell_type": "code",
   "execution_count": null,
   "metadata": {
    "collapsed": true
   },
   "outputs": [],
   "source": [
    "1. For n itmes there are 2^n combinations and the time complexity = O(2^n)"
   ]
  },
  {
   "cell_type": "markdown",
   "metadata": {},
   "source": [
    "### Recursive solution"
   ]
  },
  {
   "cell_type": "code",
   "execution_count": 1,
   "metadata": {
    "collapsed": true
   },
   "outputs": [],
   "source": [
    "# Returns the maximum value that can be put in a knapsack of capacity W\n",
    "def knapSack(W,wt,val,n):\n",
    "    \n",
    "    if n==0 or W==0:\n",
    "        return 0\n",
    "    \n",
    "    if (wt[n-1]>W):\n",
    "        return knapSack(W,wt,val,n-1)\n",
    "    else:\n",
    "         # return the maximum of two cases: \n",
    "        # (1) nth item included \n",
    "        # (2) not included \n",
    "        return max(val[n-1]+knapSack(W-wt[n-1],wt,val,n-1),\n",
    "                  knapSack(W,wt,val,n-1))\n",
    "    "
   ]
  },
  {
   "cell_type": "code",
   "execution_count": 3,
   "metadata": {
    "collapsed": false
   },
   "outputs": [
    {
     "name": "stdout",
     "output_type": "stream",
     "text": [
      "220\n"
     ]
    }
   ],
   "source": [
    "val = [60, 100, 120] \n",
    "wt = [10, 20, 30] \n",
    "W = 50\n",
    "n = len(val) \n",
    "print(knapSack(W , wt , val , n))"
   ]
  },
  {
   "cell_type": "raw",
   "metadata": {},
   "source": [
    "It should be noted that the above function computes the same subproblems again and again. See the following recursion tree, K(1, 1) is being evaluated twice. Time complexity of this naive recursive solution is exponential (2^n).\n",
    "\n",
    "Since suproblems are evaluated again, this problem has Overlapping Subprolems property."
   ]
  },
  {
   "cell_type": "code",
   "execution_count": null,
   "metadata": {
    "collapsed": true
   },
   "outputs": [],
   "source": []
  },
  {
   "cell_type": "markdown",
   "metadata": {},
   "source": [
    "## Using Dynamic Programming"
   ]
  },
  {
   "cell_type": "code",
   "execution_count": 9,
   "metadata": {
    "collapsed": true
   },
   "outputs": [],
   "source": [
    "def knapSack(W, wt, val, n): \n",
    "    K = [[0 for i in range(W+1)] for i in range(n+1)] #creating a 2d array of n rows and W columns\n",
    "    \n",
    "    # Build table K[][] in bottom up manner \n",
    "    for i in range(n+1):\n",
    "        for w in range(W+1):\n",
    "            if i==0 or w == 0: #setting first row to 0\n",
    "                K[i][w] = 0\n",
    "            elif wt[i-1] <= w: #weight of item is less than total current weight w\n",
    "                K[i][w] = max(val[i-1]+K[i-1][w-wt[i-1]],K[i-1][w]) #by selecting w, we get a value of val+remaining weight\n",
    "            else:\n",
    "                K[i][w] = K[i-1][w]\n",
    "    return K[n][W]"
   ]
  },
  {
   "cell_type": "code",
   "execution_count": 10,
   "metadata": {
    "collapsed": false
   },
   "outputs": [
    {
     "name": "stdout",
     "output_type": "stream",
     "text": [
      "220\n"
     ]
    }
   ],
   "source": [
    "val = [60, 100, 120] \n",
    "wt = [10, 20, 30] \n",
    "W = 50\n",
    "n = len(val) \n",
    "\n",
    "print(knapSack(W, wt, val, n)) "
   ]
  },
  {
   "cell_type": "code",
   "execution_count": null,
   "metadata": {
    "collapsed": false
   },
   "outputs": [],
   "source": []
  }
 ],
 "metadata": {
  "anaconda-cloud": {},
  "kernelspec": {
   "display_name": "Python [default]",
   "language": "python",
   "name": "python3"
  },
  "language_info": {
   "codemirror_mode": {
    "name": "ipython",
    "version": 3
   },
   "file_extension": ".py",
   "mimetype": "text/x-python",
   "name": "python",
   "nbconvert_exporter": "python",
   "pygments_lexer": "ipython3",
   "version": "3.5.2"
  }
 },
 "nbformat": 4,
 "nbformat_minor": 1
}
